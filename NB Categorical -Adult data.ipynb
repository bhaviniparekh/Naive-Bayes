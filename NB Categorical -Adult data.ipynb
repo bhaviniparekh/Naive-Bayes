{
 "cells": [
  {
   "cell_type": "code",
   "execution_count": null,
   "metadata": {},
   "outputs": [],
   "source": [
    "'''\n",
    "The code is to see how we can handle categorical data using the Adult Data set. The code also implements Laplace smoothing\n",
    "to avoid 0 probability.\n",
    "After reading the data in the data frame, continuous columns are dropped from the data frame. leaving only categorical columns.\n",
    "After that, all columns having '?' as value is replaced with the mode of that column.\n",
    "The data is split in X(input) and Y(output/label)data.The X data and Y data are then train-tet split to get training and testing \n",
    "data.\n",
    "For probability, for every unique value of Y data, the probability is calculated and populated in a dictionary object.\n",
    "The probability of the categorical columns of the training data set is calculated. The data set is iterated over every column.\n",
    "For every unique value of the column, conditional probability is calculated ie column|unique class eg(Red|Yes,Red|No...etc).\n",
    "This data is stored in an dictionary object against every column ({'Color': {'YellowYes': 0.5,'YellowNo': 0.57...etc).\n",
    "\n",
    "The model is now ready to predict the test data. The test data is iterated over row. For every row, the corresponding columns\n",
    "are iterated. The column|unique class probability for all columns is obtained from the above dictionary, all probability are\n",
    "multiplied to get a cumulative probability for a given class. The final probability for that row is multiplied with\n",
    "the probability of that class The same process is repeated for every unique class. Thus every row will have as many probabilities\n",
    "as a unique class in Y data. The class which has the maximum probability will be the prediction for that row. \n",
    "All prediction is stored in a list\n",
    "\n",
    "The accuracy score is calculated with the above-predicted data and actual class values.\n",
    "\n",
    "'''"
   ]
  },
  {
   "cell_type": "code",
   "execution_count": 2,
   "metadata": {},
   "outputs": [],
   "source": [
    "import pandas as pd\n",
    "from sklearn.model_selection import cross_validate\n",
    "from sklearn.model_selection import train_test_split\n",
    "\n"
   ]
  },
  {
   "cell_type": "code",
   "execution_count": 3,
   "metadata": {},
   "outputs": [],
   "source": [
    "def read_data():\n",
    "    \n",
    "    '''\n",
    "    This function is to read data using Pandas read_csv function and convert into dataframe.\n",
    "    \n",
    "      \n",
    "    Return :- \n",
    "    data :- Dataframe\n",
    "    '''\n",
    "    \n",
    "    data=pd.read_csv('http://mlr.cs.umass.edu/ml/machine-learning-databases/adult/adult.data',names=['Age','Workclass','FNLWGT','Education','Education-Num','Marital Status','Occupation','Relationship','Race','Sex','Capital Gain','Caplital Loss','Hrs-Per-Week','Native-Country','Sal'])\n",
    "    \n",
    "    \n",
    "    return data\n",
    "    \n",
    "    \n",
    "    "
   ]
  },
  {
   "cell_type": "code",
   "execution_count": 4,
   "metadata": {},
   "outputs": [],
   "source": [
    "def preprocess_data(df):\n",
    "    \n",
    "    '''\n",
    "    This code is used work on catogorical data. Therefore numerical columns are dropped before processing further.\n",
    "    The categoriacal column '?' value is replaced with mode of that column.\n",
    "    \n",
    "    Argument :-\n",
    "    df :- Data frame holding Adult data set\n",
    "    \n",
    "    Return :-\n",
    "    df :- Data frame holding categorical columns of Adult data set.\n",
    "    \n",
    "    '''\n",
    "    \n",
    "    \n",
    "    df.drop(columns=['Age','FNLWGT','Education-Num','Capital Gain','Caplital Loss','Hrs-Per-Week'],inplace=True)\n",
    "    \n",
    "    \n",
    "    for col in df.columns:\n",
    "\n",
    "        df[col].replace(' ?',df[col].mode()[0],inplace=True)\n",
    "        \n",
    "        \n",
    "    return df    "
   ]
  },
  {
   "cell_type": "code",
   "execution_count": 5,
   "metadata": {},
   "outputs": [],
   "source": [
    "def train_test(dfnew):\n",
    "    \n",
    "    '''\n",
    "    The function is to split data first into the Input (X) and Output (Y) dataset. The X data is further train-test split into\n",
    "     x_train,y_train,x_test,y_test data.\n",
    "    \n",
    "    Argument :-\n",
    "    dfnew :-Modified adult dataframe\n",
    "    \n",
    "    Return :- \n",
    "    xtrain:-training data\n",
    "    xtest :- Validation data\n",
    "    ytrain :- Label data of training data\n",
    "    ytest :- label data of validation data\n",
    "    \n",
    "    '''\n",
    "    \n",
    "    \n",
    "    x=dfnew.iloc[:,:-1]\n",
    "    y=dfnew.iloc[:,-1]\n",
    "    \n",
    "    \n",
    "    xtrain, xtest, ytrain, ytest = train_test_split(x, y,test_size=.3, random_state=0)\n",
    "    \n",
    "    return xtrain,xtest,ytrain,ytest\n",
    "    "
   ]
  },
  {
   "cell_type": "code",
   "execution_count": 6,
   "metadata": {},
   "outputs": [],
   "source": [
    "def prob_class(y_train):\n",
    "    \n",
    "    '''\n",
    "   This function is to calculate the probability of unique values of the Output data.\n",
    "    \n",
    "    Argument :- \n",
    "    y_train :- Y train data.\n",
    "    \n",
    "    Return :-  \n",
    "    inp_dict :-Dictionary holding probabilty of each unique value of output data.\n",
    "    unq_inp :- Unique value of Y data.\n",
    "    \n",
    "    \n",
    "    '''\n",
    "    \n",
    "    #Find unique value of Output column and rowcount of X_train data   \n",
    "    rowcnt=x_train.shape[0]\n",
    "    unq_inp=y_train.unique()\n",
    "    inp_dict={}\n",
    "\n",
    "# Getting probablity of ouput column for every unqiue values\n",
    "    for k in unq_inp:\n",
    "        prob=y_train[y_train==k].shape[0]/rowcnt\n",
    "        inp_dict.update({k:prob})\n",
    "        \n",
    "        \n",
    "        \n",
    "    return unq_inp,inp_dict\n",
    "    \n"
   ]
  },
  {
   "cell_type": "code",
   "execution_count": 7,
   "metadata": {},
   "outputs": [],
   "source": [
    "\n",
    "def train_cat_prob(x_train,y_train,unqinp,inpdict):\n",
    "    \n",
    "    '''\n",
    "    This function is to calculate the probability of categorical data of training eg Red nYes,Red nNo etc.\n",
    "    The conditional probability is calculated from every unique value of column | unique class (Red|yes.Red|No..etc).The Laplace\n",
    "    smoothing is considered while calculating the probabilities.\n",
    "    This data is stored in an dictionary object against every column ({'Color': {'YellowYes': 0.5,'YellowNo': 0.57,'RedYes': 0.5,..\n",
    "    ....etc)\n",
    "    \n",
    "    Argument:\n",
    "    x_train:-training data\n",
    "    y_train :- Y data\n",
    "    unqinp :- Unique value of Y data.\n",
    "    inpdict :-Dictionary holding probabilty of each unique value of output data.\n",
    "    \n",
    "    Return:-\n",
    "    finalans :- Dictionary holding column|class probability.\n",
    "    \n",
    "    \n",
    "    \n",
    "    '''\n",
    "    concatdf=pd.concat([x_train,y_train],axis=1)\n",
    "    \n",
    "    finalans={}\n",
    " \n",
    "    result=0\n",
    "    prob=0\n",
    "\n",
    "    \n",
    " \n",
    "    \n",
    "    for col in x_train.columns:\n",
    "        colunq=x_train[col].unique()\n",
    "    \n",
    "        newdict={}\n",
    "    \n",
    "    \n",
    "        for val in colunq:\n",
    "       \n",
    "        \n",
    "            for val1 in unqinp:\n",
    "            \n",
    "                result = (concatdf[(concatdf[col]==val) & (concatdf[y_train.name]==val1)].shape[0]+1)\n",
    "                prob=result/(concatdf[concatdf[y_train.name]==val1].shape[0]+len(unqinp))\n",
    "            \n",
    "                newdict.update({val+val1:prob})\n",
    "        \n",
    "        finalans.update({col:newdict})\n",
    "    \n",
    "\n",
    "    return finalans\n",
    "    \n",
    "    "
   ]
  },
  {
   "cell_type": "code",
   "execution_count": 8,
   "metadata": {},
   "outputs": [],
   "source": [
    "def finalypred(x_test,resultdata):\n",
    "    \n",
    "    '''\n",
    "    The function is to predict the test data. The test data is iterated over row. For every column of the row, the respective\n",
    "    column|class probability is obtained from the dictionary holding all probabilities. All column|class probability is\n",
    "    multiplied to get a cumulative probability.The final probability for that row is multiplied with probabilty of that class.\n",
    "    The same process is repeated for every unique class. Thus every row will have as many probabilities as a unique class in Y \n",
    "    data. The class which has the maximum probability will be the prediction for that row. All prediction is stored in a list\n",
    "    \n",
    "    Argument :-\n",
    "    x_test :- test data.\n",
    "    resultdata :- Dictionary holding all column|class probability.\n",
    "    \n",
    "    Return :-\n",
    "    Ypred :- List holding prediction for all rows of testing data.\n",
    "    \n",
    "    \n",
    "    \n",
    "    '''\n",
    "    \n",
    "    p=0\n",
    "    d={}\n",
    "    finalprob={}\n",
    "    prob=1\n",
    "    Ypred=[]\n",
    "    \n",
    "\n",
    "# Iterating every row in x_test data\n",
    "    for index,row in x_test.iterrows():\n",
    "  \n",
    "        # Iterating through unqiue values of Output column\n",
    "        for val in unqinp:\n",
    "            prob=1\n",
    "            \n",
    "            #Iterating through unqiue columns of input column.\n",
    "            for col in x_test.columns:\n",
    "                                \n",
    "                d=resultdata[col]\n",
    "                \n",
    "                if (row.get(col)!=None) & (d.get(row[col]+val)!=None):  # taking into account records whose attribute's value may not be present in train data\n",
    "\n",
    "                    p=d[row[col]+val]\n",
    "                                   \n",
    "                    prob=prob*p   #eg RednY * SportnY *domesticnY\n",
    "        \n",
    "            \n",
    "            prob=prob*inpdict[val]   #eg RednY * SportnY *domesticnY\n",
    "            finalprob.update({val:prob})\n",
    "        max_v = max(zip(finalprob.values(), finalprob.keys()))  # find maximum value between Yes and N of the same row\n",
    "    \n",
    "        Ypred.append(max_v[1])\n",
    "        \n",
    "    return Ypred"
   ]
  },
  {
   "cell_type": "code",
   "execution_count": 9,
   "metadata": {},
   "outputs": [],
   "source": [
    "def accuracyfunc(ypredect,y_test):\n",
    "    \n",
    "    '''\n",
    "    \n",
    "   The function is to calculate the accuracy score with predicted data and actual labels.\n",
    "   \n",
    "   Argument :-\n",
    "   ypredect :- Predicted test data.\n",
    "   y_test   : Y data of test data set.\n",
    "    \n",
    "    '''\n",
    "\n",
    "    ytest=y_test.tolist()\n",
    "\n",
    "    ytestrow=len(ytest)\n",
    "\n",
    "\n",
    "    cntrow=0\n",
    "    accuracy=0\n",
    "    \n",
    "    for x,y in zip(ytest,ypredect):\n",
    "        \n",
    "        if x==y:\n",
    "            cntrow=cntrow+1\n",
    "  \n",
    "    accuracy=cntrow*100/ytestrow\n",
    "    print(accuracy)"
   ]
  },
  {
   "cell_type": "code",
   "execution_count": null,
   "metadata": {},
   "outputs": [],
   "source": []
  },
  {
   "cell_type": "code",
   "execution_count": 10,
   "metadata": {},
   "outputs": [],
   "source": [
    "#Read the data in pandas data frame.\n",
    "df=read_data()"
   ]
  },
  {
   "cell_type": "code",
   "execution_count": 11,
   "metadata": {},
   "outputs": [],
   "source": [
    "#Replace all '?' column value \n",
    "df=preprocess_data(df)"
   ]
  },
  {
   "cell_type": "code",
   "execution_count": 12,
   "metadata": {},
   "outputs": [],
   "source": [
    "#Make a copy of original data frame (df)\n",
    "dfnew=df"
   ]
  },
  {
   "cell_type": "code",
   "execution_count": 13,
   "metadata": {},
   "outputs": [],
   "source": [
    "#The X data is train-test split into training and testing data\n",
    "x_train,x_test,y_train,y_test=train_test(dfnew)"
   ]
  },
  {
   "cell_type": "code",
   "execution_count": 14,
   "metadata": {},
   "outputs": [],
   "source": [
    "#Calculate probability of every unique value of Y data.\n",
    "unqinp,inpdict=prob_class(y_train)"
   ]
  },
  {
   "cell_type": "code",
   "execution_count": 16,
   "metadata": {},
   "outputs": [],
   "source": [
    "#Calculate column|class probability of training data set\n",
    "resultdata=train_cat_prob(x_train,y_train,unqinp,inpdict)"
   ]
  },
  {
   "cell_type": "code",
   "execution_count": 17,
   "metadata": {},
   "outputs": [],
   "source": [
    "#Run test data over model to obtain prediction for every row.\n",
    "ypredect=finalypred(x_test,resultdata)"
   ]
  },
  {
   "cell_type": "code",
   "execution_count": 18,
   "metadata": {},
   "outputs": [
    {
     "name": "stdout",
     "output_type": "stream",
     "text": [
      "78.59555737537107\n"
     ]
    }
   ],
   "source": [
    "#Calcualte the accuracy score\n",
    "accuracyfunc(ypredect,y_test)"
   ]
  }
 ],
 "metadata": {
  "kernelspec": {
   "display_name": "Python 3",
   "language": "python",
   "name": "python3"
  },
  "language_info": {
   "codemirror_mode": {
    "name": "ipython",
    "version": 3
   },
   "file_extension": ".py",
   "mimetype": "text/x-python",
   "name": "python",
   "nbconvert_exporter": "python",
   "pygments_lexer": "ipython3",
   "version": "3.7.1"
  }
 },
 "nbformat": 4,
 "nbformat_minor": 2
}
