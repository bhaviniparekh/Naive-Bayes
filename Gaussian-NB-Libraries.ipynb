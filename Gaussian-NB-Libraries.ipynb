{
 "cells": [
  {
   "cell_type": "code",
   "execution_count": null,
   "metadata": {},
   "outputs": [],
   "source": [
    "'''\n",
    "The adult dataset was used to study a way of handling continuous data. The approach to handling continuous column data\n",
    "was by using the Gaussian Naive Bayes classifier algorithm. It is specially used for features having continuous values.\n",
    "The adult dataset contains both categorical and continuous types of columns.\n",
    "The accuracy score will be calculated on only continuous columns. \n",
    "\n",
    "\n",
    "Data is read using pandas function and converted into a data frame. The data is preprocessed to replace the '?' values of the \n",
    "columns with the mode values of those columns. Thereafter the categorical columns are separated from continuous columns.\n",
    "\n",
    "The continuous columns are split into X and Y data. The X data is then train-test split into training and testing data with \n",
    "their respective Y data. The training data is then fit and transformed over the GaussianNB library object to get the mean and \n",
    "standard variation. Validation data is then predicted over the training model to get a list of predictions.\n",
    "\n",
    "Finally, the accuracy score is calculated with the predicted and actual labels.\n",
    "\n",
    "\n",
    "\n",
    "'''"
   ]
  },
  {
   "cell_type": "code",
   "execution_count": 2,
   "metadata": {},
   "outputs": [],
   "source": [
    "import pandas as pd\n",
    "from sklearn.model_selection import train_test_split\n",
    "from sklearn.naive_bayes import GaussianNB\n",
    "from sklearn import metrics\n",
    "from IPython.display import display\n",
    "pd.set_option('display.max_columns', None)\n",
    "\n"
   ]
  },
  {
   "cell_type": "code",
   "execution_count": 3,
   "metadata": {},
   "outputs": [],
   "source": [
    "def read_data():\n",
    "    \n",
    "    '''\n",
    "    This function is to read data using Pandas read_csv function and convert into dataframe.\n",
    "       \n",
    "    Return :- \n",
    "    data :- Dataframe \n",
    "    '''\n",
    "    \n",
    "    data=pd.read_csv('http://mlr.cs.umass.edu/ml/machine-learning-databases/adult/adult.data',names=['Age','Workclass','FNLWGT','Education','Education-Num','Marital Status','Occupation','Relationship','Race','Sex','Capital Gain','Caplital Loss','Hrs-Per-Week','Native-Country','Sal'])\n",
    "    \n",
    "    return data\n",
    "\n",
    "\n",
    "\n",
    "def format_data(df):\n",
    "    \n",
    "    '''\n",
    "     The function is for data preprocessing. The '?' values of the columns are replaced with the mode value of those columns.\n",
    "    \n",
    "    The categorical columns of the data frame are dropped.\n",
    "    \n",
    "    Argument :- \n",
    "    df :- DataFrame\n",
    "    \n",
    "    Return :- \n",
    "    \n",
    "    df :- modified dataframe.\n",
    "    '''\n",
    "    \n",
    "    for col in df.columns:\n",
    "\n",
    "        df[col].replace(' ?',df[col].mode()[0],inplace=True)\n",
    "    \n",
    "    df.drop(columns=['Workclass','Education','Marital Status','Occupation','Relationship','Race','Sex','Native-Country'],inplace=True)\n",
    "    \n",
    "    return df\n",
    "\n",
    "\n",
    "\n",
    "\n",
    "def split_data(dfnew):\n",
    "    \n",
    "    '''\n",
    "    The function is to split data first into the Input (X) and Output (Y) dataset. The X data is further train-test split into\n",
    "     x_train,y_train,x_test,y_test data.\n",
    "    \n",
    "    Arguemnt :- \n",
    "    dfnew:-modified Dataframe\n",
    "    \n",
    "    Return :- \n",
    "    x_train:-training data\n",
    "    x_test :- Validation data\n",
    "    y_train :- Label data of training data\n",
    "    y_test :- label data of validation data\n",
    "    '''\n",
    "    \n",
    "\n",
    "    x=dfnew.iloc[:,:-1]\n",
    "    y=dfnew.iloc[:,-1]\n",
    "    x_train, x_test, y_train, y_test = train_test_split(x, y,test_size=.3, random_state=0)\n",
    "    \n",
    "    return x_train,x_test,y_train,y_test\n",
    "\n",
    "\n",
    "\n",
    "\n",
    "def gaussianNB(x_train,y_train):\n",
    "    \n",
    "    '''\n",
    "    The function is to fit and transform training data on GaussionNB object.\n",
    "    \n",
    "    Argument :-\n",
    "    x_train :- training data\n",
    "    y_train :- label data of training data\n",
    "    \n",
    "    Return :- \n",
    "    clf :- Object of GaussianNB\n",
    "    '''\n",
    "    \n",
    "    clf = GaussianNB()\n",
    "    clf.fit(x_train,y_train)\n",
    "    \n",
    "    return clf\n",
    "\n",
    "\n",
    "\n",
    "def pred_accuracy(clf_pred,x_test,y_test):\n",
    "    \n",
    "    '''\n",
    "    The function is to run the test data over the model and predict the test data. It also calculates the accuracy score with \n",
    "    predicted data and actual labels.\n",
    "    \n",
    "    Arguemnt :- \n",
    "    clf_pred :-Object of GaussianNB\n",
    "    \n",
    "    Return :- Accuracy Score\n",
    "    '''\n",
    "    y_pred_class=clf_pred.predict(x_test)\n",
    "    print(metrics.accuracy_score(y_test, y_pred_class))\n",
    "\n",
    "\n",
    "\n",
    "    \n",
    "    "
   ]
  },
  {
   "cell_type": "code",
   "execution_count": null,
   "metadata": {},
   "outputs": [],
   "source": []
  },
  {
   "cell_type": "code",
   "execution_count": null,
   "metadata": {},
   "outputs": [],
   "source": []
  },
  {
   "cell_type": "code",
   "execution_count": 4,
   "metadata": {},
   "outputs": [],
   "source": [
    "df=read_data()"
   ]
  },
  {
   "cell_type": "code",
   "execution_count": 5,
   "metadata": {},
   "outputs": [],
   "source": [
    "continous_df=format_data(df)"
   ]
  },
  {
   "cell_type": "code",
   "execution_count": 6,
   "metadata": {},
   "outputs": [],
   "source": [
    "xtrain,xtest,ytrain,ytest=split_data(continous_df)"
   ]
  },
  {
   "cell_type": "code",
   "execution_count": 7,
   "metadata": {},
   "outputs": [],
   "source": [
    "clf_pred =gaussianNB(xtrain,ytrain)"
   ]
  },
  {
   "cell_type": "code",
   "execution_count": 8,
   "metadata": {},
   "outputs": [
    {
     "name": "stdout",
     "output_type": "stream",
     "text": [
      "0.7975227761285699\n"
     ]
    }
   ],
   "source": [
    "pred_accuracy(clf_pred,xtest,ytest)"
   ]
  },
  {
   "cell_type": "code",
   "execution_count": null,
   "metadata": {},
   "outputs": [],
   "source": []
  }
 ],
 "metadata": {
  "kernelspec": {
   "display_name": "Python 3",
   "language": "python",
   "name": "python3"
  },
  "language_info": {
   "codemirror_mode": {
    "name": "ipython",
    "version": 3
   },
   "file_extension": ".py",
   "mimetype": "text/x-python",
   "name": "python",
   "nbconvert_exporter": "python",
   "pygments_lexer": "ipython3",
   "version": "3.7.1"
  }
 },
 "nbformat": 4,
 "nbformat_minor": 2
}
